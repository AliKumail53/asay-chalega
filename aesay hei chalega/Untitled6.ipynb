{
 "cells": [
  {
   "cell_type": "code",
   "execution_count": null,
   "id": "148e5b09",
   "metadata": {},
   "outputs": [],
   "source": []
  },
  {
   "cell_type": "code",
   "execution_count": null,
   "id": "a5291ccf",
   "metadata": {},
   "outputs": [],
   "source": [
    "x = int(input(\"Enter the first number :\"));\n",
    "y = int(input(\"Enter the second number :\"));\n",
    "z \n",
    "print(\"The sum of x and y is\", z );"
   ]
  },
  {
   "cell_type": "code",
   "execution_count": 9,
   "id": "dbcbf347",
   "metadata": {},
   "outputs": [
    {
     "ename": "AttributeError",
     "evalue": "'tuple' object has no attribute 'append'",
     "output_type": "error",
     "traceback": [
      "\u001b[1;31m---------------------------------------------------------------------------\u001b[0m",
      "\u001b[1;31mAttributeError\u001b[0m                            Traceback (most recent call last)",
      "\u001b[1;32m<ipython-input-9-55948f88f8db>\u001b[0m in \u001b[0;36m<module>\u001b[1;34m\u001b[0m\n\u001b[1;32m----> 1\u001b[1;33m \u001b[0mlisting_of_animals\u001b[0m\u001b[1;33m.\u001b[0m\u001b[0mappend\u001b[0m\u001b[1;33m(\u001b[0m\u001b[1;34m\"Ostrich\"\u001b[0m\u001b[1;33m)\u001b[0m\u001b[1;33m;\u001b[0m\u001b[1;33m\u001b[0m\u001b[1;33m\u001b[0m\u001b[0m\n\u001b[0m\u001b[0;32m      2\u001b[0m \u001b[0mprint\u001b[0m\u001b[1;33m(\u001b[0m\u001b[0mlisting_of_animals\u001b[0m\u001b[1;33m)\u001b[0m\u001b[1;33m;\u001b[0m\u001b[1;33m\u001b[0m\u001b[1;33m\u001b[0m\u001b[0m\n",
      "\u001b[1;31mAttributeError\u001b[0m: 'tuple' object has no attribute 'append'"
     ]
    }
   ],
   "source": [
    "listing_of_animals.append(\"Ostrich\");\n",
    "print(listing_of_animals);"
   ]
  },
  {
   "cell_type": "code",
   "execution_count": 1,
   "id": "9c89efff",
   "metadata": {},
   "outputs": [
    {
     "name": "stdout",
     "output_type": "stream",
     "text": [
      "['Asia', 'Africa', 'Australia', 'Europe']\n"
     ]
    }
   ],
   "source": [
    "ass_c = [\"Asia\",\"Africa\",\"Australia\",\"Europe\"];\n",
    "print(ass_c);"
   ]
  },
  {
   "cell_type": "code",
   "execution_count": null,
   "id": "c9e7eec3",
   "metadata": {},
   "outputs": [],
   "source": [
    "ass_c "
   ]
  }
 ],
 "metadata": {
  "kernelspec": {
   "display_name": "Python 3",
   "language": "python",
   "name": "python3"
  },
  "language_info": {
   "codemirror_mode": {
    "name": "ipython",
    "version": 3
   },
   "file_extension": ".py",
   "mimetype": "text/x-python",
   "name": "python",
   "nbconvert_exporter": "python",
   "pygments_lexer": "ipython3",
   "version": "3.8.8"
  }
 },
 "nbformat": 4,
 "nbformat_minor": 5
}
